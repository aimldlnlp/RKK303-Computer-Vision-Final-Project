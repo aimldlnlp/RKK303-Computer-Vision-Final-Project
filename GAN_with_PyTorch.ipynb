{
  "nbformat": 4,
  "nbformat_minor": 0,
  "metadata": {
    "colab": {
      "provenance": [],
      "authorship_tag": "ABX9TyNWPe0XLSHEypeuZFpBFlvS",
      "include_colab_link": true
    },
    "kernelspec": {
      "name": "python3",
      "display_name": "Python 3"
    },
    "language_info": {
      "name": "python"
    }
  },
  "cells": [
    {
      "cell_type": "markdown",
      "metadata": {
        "id": "view-in-github",
        "colab_type": "text"
      },
      "source": [
        "<a href=\"https://colab.research.google.com/github/aimldlnlp/RKK303-Computer-Vision-Final-Project/blob/main/GAN_with_PyTorch.ipynb\" target=\"_parent\"><img src=\"https://colab.research.google.com/assets/colab-badge.svg\" alt=\"Open In Colab\"/></a>"
      ]
    },
    {
      "cell_type": "markdown",
      "source": [
        "# Import Required Libraries\n"
      ],
      "metadata": {
        "id": "Ndu777dGoFr_"
      }
    },
    {
      "cell_type": "code",
      "execution_count": 1,
      "metadata": {
        "id": "-3iZ88T5n26v"
      },
      "outputs": [],
      "source": [
        "import torch\n",
        "import torch.nn as nn\n",
        "import torch.optim as optim\n",
        "import torchvision.datasets as dsets\n",
        "import torchvision.transforms as transforms"
      ]
    },
    {
      "cell_type": "markdown",
      "source": [
        "# Define the Generator and Discriminator Models"
      ],
      "metadata": {
        "id": "CXFIoNjHoLP0"
      }
    },
    {
      "cell_type": "code",
      "source": [
        "class Generator(nn.Module):\n",
        "    def __init__(self):\n",
        "        super(Generator, self).__init__()\n",
        "        self.model = nn.Sequential(\n",
        "            nn.Linear(100, 256),\n",
        "            nn.ReLU(),\n",
        "            nn.Linear(256, 512),\n",
        "            nn.ReLU(),\n",
        "            nn.Linear(512, 1024),\n",
        "            nn.ReLU(),\n",
        "            nn.Linear(1024, 28*28),\n",
        "            nn.Tanh()  # Output should be between -1 and 1\n",
        "        )\n",
        "\n",
        "    def forward(self, z):\n",
        "        return self.model(z).view(-1, 1, 28, 28)\n",
        "\n",
        "class Discriminator(nn.Module):\n",
        "    def __init__(self):\n",
        "        super(Discriminator, self).__init__()\n",
        "        self.model = nn.Sequential(\n",
        "            nn.Flatten(),\n",
        "            nn.Linear(28*28, 512),\n",
        "            nn.LeakyReLU(0.2),\n",
        "            nn.Linear(512, 256),\n",
        "            nn.LeakyReLU(0.2),\n",
        "            nn.Linear(256, 1),\n",
        "            nn.Sigmoid()  # Output between 0 and 1\n",
        "        )\n",
        "\n",
        "    def forward(self, img):\n",
        "        return self.model(img)"
      ],
      "metadata": {
        "id": "MbAXPYqhn7KU"
      },
      "execution_count": 2,
      "outputs": []
    },
    {
      "cell_type": "markdown",
      "source": [
        "# Initialize Models, Loss Function, and Optimizers"
      ],
      "metadata": {
        "id": "pX0BHUKjoS5W"
      }
    },
    {
      "cell_type": "code",
      "source": [
        "generator = Generator()\n",
        "discriminator = Discriminator()\n",
        "\n",
        "criterion = nn.BCELoss()\n",
        "optimizer_G = optim.Adam(generator.parameters(), lr=0.0002)\n",
        "optimizer_D = optim.Adam(discriminator.parameters(), lr=0.0002)"
      ],
      "metadata": {
        "id": "UtKTrlcfoNgA"
      },
      "execution_count": 3,
      "outputs": []
    },
    {
      "cell_type": "markdown",
      "source": [
        "# Training Loop"
      ],
      "metadata": {
        "id": "ZxsCg0AJoZFE"
      }
    },
    {
      "cell_type": "code",
      "source": [
        "# Load the MNIST dataset\n",
        "mnist = dsets.MNIST(root='./data', train=True, download=True, transform=transforms.ToTensor())\n",
        "data_loader = torch.utils.data.DataLoader(mnist, batch_size=64, shuffle=True)\n",
        "\n",
        "# Training the GAN\n",
        "num_epochs = 50\n",
        "for epoch in range(num_epochs):\n",
        "    for real_images, _ in data_loader:\n",
        "        batch_size = real_images.size(0)\n",
        "\n",
        "        # Train Discriminator\n",
        "        z = torch.randn(batch_size, 100)  # Random noise\n",
        "        fake_images = generator(z)\n",
        "        real_labels = torch.ones(batch_size, 1)  # Labels for real images\n",
        "        fake_labels = torch.zeros(batch_size, 1)  # Labels for fake images\n",
        "\n",
        "        optimizer_D.zero_grad()\n",
        "        outputs = discriminator(real_images)\n",
        "        d_loss_real = criterion(outputs, real_labels)\n",
        "        outputs = discriminator(fake_images.detach())\n",
        "        d_loss_fake = criterion(outputs, fake_labels)\n",
        "        d_loss = d_loss_real + d_loss_fake\n",
        "        d_loss.backward()\n",
        "        optimizer_D.step()\n",
        "\n",
        "        # Train Generator\n",
        "        optimizer_G.zero_grad()\n",
        "        outputs = discriminator(fake_images)\n",
        "        g_loss = criterion(outputs, real_labels)\n",
        "        g_loss.backward()\n",
        "        optimizer_G.step()\n",
        "\n",
        "    print(f'Epoch [{epoch+1}/{num_epochs}], d_loss: {d_loss.item():.4f}, g_loss: {g_loss.item():.4f}')"
      ],
      "metadata": {
        "colab": {
          "base_uri": "https://localhost:8080/"
        },
        "collapsed": true,
        "id": "AXZdIvEKoW5H",
        "outputId": "04243e5f-cd6c-48ea-c71d-50d8678f85ea"
      },
      "execution_count": 4,
      "outputs": [
        {
          "output_type": "stream",
          "name": "stdout",
          "text": [
            "Downloading http://yann.lecun.com/exdb/mnist/train-images-idx3-ubyte.gz\n",
            "Failed to download (trying next):\n",
            "HTTP Error 403: Forbidden\n",
            "\n",
            "Downloading https://ossci-datasets.s3.amazonaws.com/mnist/train-images-idx3-ubyte.gz\n",
            "Downloading https://ossci-datasets.s3.amazonaws.com/mnist/train-images-idx3-ubyte.gz to ./data/MNIST/raw/train-images-idx3-ubyte.gz\n"
          ]
        },
        {
          "output_type": "stream",
          "name": "stderr",
          "text": [
            "100%|██████████| 9.91M/9.91M [00:00<00:00, 39.1MB/s]\n"
          ]
        },
        {
          "output_type": "stream",
          "name": "stdout",
          "text": [
            "Extracting ./data/MNIST/raw/train-images-idx3-ubyte.gz to ./data/MNIST/raw\n",
            "\n",
            "Downloading http://yann.lecun.com/exdb/mnist/train-labels-idx1-ubyte.gz\n",
            "Failed to download (trying next):\n",
            "HTTP Error 403: Forbidden\n",
            "\n",
            "Downloading https://ossci-datasets.s3.amazonaws.com/mnist/train-labels-idx1-ubyte.gz\n",
            "Downloading https://ossci-datasets.s3.amazonaws.com/mnist/train-labels-idx1-ubyte.gz to ./data/MNIST/raw/train-labels-idx1-ubyte.gz\n"
          ]
        },
        {
          "output_type": "stream",
          "name": "stderr",
          "text": [
            "100%|██████████| 28.9k/28.9k [00:00<00:00, 1.24MB/s]\n"
          ]
        },
        {
          "output_type": "stream",
          "name": "stdout",
          "text": [
            "Extracting ./data/MNIST/raw/train-labels-idx1-ubyte.gz to ./data/MNIST/raw\n",
            "\n",
            "Downloading http://yann.lecun.com/exdb/mnist/t10k-images-idx3-ubyte.gz\n",
            "Failed to download (trying next):\n",
            "HTTP Error 403: Forbidden\n",
            "\n",
            "Downloading https://ossci-datasets.s3.amazonaws.com/mnist/t10k-images-idx3-ubyte.gz\n",
            "Downloading https://ossci-datasets.s3.amazonaws.com/mnist/t10k-images-idx3-ubyte.gz to ./data/MNIST/raw/t10k-images-idx3-ubyte.gz\n"
          ]
        },
        {
          "output_type": "stream",
          "name": "stderr",
          "text": [
            "100%|██████████| 1.65M/1.65M [00:00<00:00, 10.8MB/s]\n"
          ]
        },
        {
          "output_type": "stream",
          "name": "stdout",
          "text": [
            "Extracting ./data/MNIST/raw/t10k-images-idx3-ubyte.gz to ./data/MNIST/raw\n",
            "\n",
            "Downloading http://yann.lecun.com/exdb/mnist/t10k-labels-idx1-ubyte.gz\n",
            "Failed to download (trying next):\n",
            "HTTP Error 403: Forbidden\n",
            "\n",
            "Downloading https://ossci-datasets.s3.amazonaws.com/mnist/t10k-labels-idx1-ubyte.gz\n",
            "Downloading https://ossci-datasets.s3.amazonaws.com/mnist/t10k-labels-idx1-ubyte.gz to ./data/MNIST/raw/t10k-labels-idx1-ubyte.gz\n"
          ]
        },
        {
          "output_type": "stream",
          "name": "stderr",
          "text": [
            "100%|██████████| 4.54k/4.54k [00:00<00:00, 2.54MB/s]\n"
          ]
        },
        {
          "output_type": "stream",
          "name": "stdout",
          "text": [
            "Extracting ./data/MNIST/raw/t10k-labels-idx1-ubyte.gz to ./data/MNIST/raw\n",
            "\n",
            "Epoch [1/50], d_loss: 3.5201, g_loss: 1.3312\n",
            "Epoch [2/50], d_loss: 0.9882, g_loss: 0.8839\n",
            "Epoch [3/50], d_loss: 0.9332, g_loss: 3.3154\n",
            "Epoch [4/50], d_loss: 0.7635, g_loss: 1.1851\n",
            "Epoch [5/50], d_loss: 0.5982, g_loss: 1.6919\n",
            "Epoch [6/50], d_loss: 0.6452, g_loss: 1.5113\n",
            "Epoch [7/50], d_loss: 1.1522, g_loss: 1.0088\n",
            "Epoch [8/50], d_loss: 1.8872, g_loss: 1.2322\n",
            "Epoch [9/50], d_loss: 0.6560, g_loss: 1.3315\n",
            "Epoch [10/50], d_loss: 1.0278, g_loss: 2.0553\n",
            "Epoch [11/50], d_loss: 1.2514, g_loss: 2.0441\n",
            "Epoch [12/50], d_loss: 0.3823, g_loss: 1.6383\n",
            "Epoch [13/50], d_loss: 0.7317, g_loss: 1.2457\n",
            "Epoch [14/50], d_loss: 0.9453, g_loss: 1.2251\n",
            "Epoch [15/50], d_loss: 1.1688, g_loss: 2.6061\n",
            "Epoch [16/50], d_loss: 1.0321, g_loss: 1.2930\n",
            "Epoch [17/50], d_loss: 1.6943, g_loss: 0.9679\n",
            "Epoch [18/50], d_loss: 1.8136, g_loss: 0.8511\n",
            "Epoch [19/50], d_loss: 0.5116, g_loss: 2.2687\n",
            "Epoch [20/50], d_loss: 1.7262, g_loss: 1.2037\n",
            "Epoch [21/50], d_loss: 1.5441, g_loss: 1.2412\n",
            "Epoch [22/50], d_loss: 0.5839, g_loss: 1.3838\n",
            "Epoch [23/50], d_loss: 1.3274, g_loss: 1.3084\n",
            "Epoch [24/50], d_loss: 2.5492, g_loss: 1.6709\n",
            "Epoch [25/50], d_loss: 0.8797, g_loss: 0.9658\n",
            "Epoch [26/50], d_loss: 0.7912, g_loss: 1.5349\n",
            "Epoch [27/50], d_loss: 1.4592, g_loss: 1.4137\n",
            "Epoch [28/50], d_loss: 1.2508, g_loss: 1.5974\n",
            "Epoch [29/50], d_loss: 0.9565, g_loss: 1.4878\n",
            "Epoch [30/50], d_loss: 1.5463, g_loss: 2.1894\n",
            "Epoch [31/50], d_loss: 0.8674, g_loss: 1.3301\n",
            "Epoch [32/50], d_loss: 0.5964, g_loss: 1.9562\n",
            "Epoch [33/50], d_loss: 0.8737, g_loss: 2.0558\n",
            "Epoch [34/50], d_loss: 1.0497, g_loss: 2.0282\n",
            "Epoch [35/50], d_loss: 0.5905, g_loss: 2.2037\n",
            "Epoch [36/50], d_loss: 0.5777, g_loss: 1.7983\n",
            "Epoch [37/50], d_loss: 0.7679, g_loss: 1.6751\n",
            "Epoch [38/50], d_loss: 0.6519, g_loss: 1.7526\n",
            "Epoch [39/50], d_loss: 0.9886, g_loss: 1.9013\n",
            "Epoch [40/50], d_loss: 1.2096, g_loss: 1.9138\n",
            "Epoch [41/50], d_loss: 1.3440, g_loss: 2.3819\n",
            "Epoch [42/50], d_loss: 0.6153, g_loss: 2.1975\n",
            "Epoch [43/50], d_loss: 0.6778, g_loss: 1.8575\n",
            "Epoch [44/50], d_loss: 0.6278, g_loss: 1.8490\n",
            "Epoch [45/50], d_loss: 0.8505, g_loss: 3.5043\n",
            "Epoch [46/50], d_loss: 0.8378, g_loss: 1.8683\n",
            "Epoch [47/50], d_loss: 0.6497, g_loss: 2.9319\n",
            "Epoch [48/50], d_loss: 0.8223, g_loss: 2.1706\n",
            "Epoch [49/50], d_loss: 0.3555, g_loss: 2.6259\n",
            "Epoch [50/50], d_loss: 0.5376, g_loss: 2.7238\n"
          ]
        }
      ]
    },
    {
      "cell_type": "code",
      "source": [],
      "metadata": {
        "id": "-8jQmyP3yDPB"
      },
      "execution_count": null,
      "outputs": []
    }
  ]
}